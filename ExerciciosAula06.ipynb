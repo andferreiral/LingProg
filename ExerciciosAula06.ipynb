{
 "cells": [
  {
   "cell_type": "markdown",
   "metadata": {},
   "source": [
    "## 1 Defina a função soma_nat que recebe como argumento um número natural  n e devolve a soma de todos os números naturais até  n.\n",
    "Ex: soma_nat(5) = 15"
   ]
  },
  {
   "cell_type": "code",
   "execution_count": 3,
   "metadata": {},
   "outputs": [
    {
     "name": "stdout",
     "output_type": "stream",
     "text": [
      "Insira um número natural: 5\n",
      "A soma dos números naturais anteriores é: 15\n"
     ]
    }
   ],
   "source": [
    "def get_number():\n",
    "    while True:\n",
    "        numero = int(input('Insira um número natural: '))\n",
    "        if numero < 0:\n",
    "            print('Digite um número natural apenas!')\n",
    "            continue\n",
    "        else:\n",
    "            return numero\n",
    "\n",
    "## recursivo\n",
    "def soma_nat(n):\n",
    "    return 0 if n==0 else n+soma_nat(n-1)\n",
    "\n",
    "def f_main():\n",
    "    return soma_nat(get_number())\n",
    "\n",
    "print('A soma dos números naturais anteriores é: %d' %(f_main()))"
   ]
  },
  {
   "cell_type": "code",
   "execution_count": 4,
   "metadata": {},
   "outputs": [],
   "source": [
    "assert(soma_nat(5)==15)"
   ]
  },
  {
   "cell_type": "markdown",
   "metadata": {},
   "source": [
    "## 4 Defina a função prod_lista que recebe como argumento uma lista de inteiros e devolve o produto dos seus elementos.\n",
    "Ex: prod_lista([1,2,3,4,5,6]) = 720"
   ]
  },
  {
   "cell_type": "code",
   "execution_count": 5,
   "metadata": {},
   "outputs": [
    {
     "name": "stdout",
     "output_type": "stream",
     "text": [
      "OBS: Você será solicitado a inserir elementos na lista até inserir um elemento inválido\n",
      "Insira um número na lista: 1\n",
      "Insira um número na lista: 2\n",
      "Insira um número na lista: 3\n",
      "Insira um número na lista: 4\n",
      "Insira um número na lista: 5\n",
      "Insira um número na lista: 6\n",
      "Insira um número na lista: a\n",
      "Lista = [1.0, 2.0, 3.0, 4.0, 5.0, 6.0] \n",
      "Produto dos elementos = 720.0\n"
     ]
    }
   ],
   "source": [
    "def monta_lista():\n",
    "    lista = []\n",
    "    print('OBS: Você será solicitado a inserir elementos na lista até inserir um elemento inválido')\n",
    "    while True:\n",
    "        item = input('Insira um número na lista: ')\n",
    "        try:\n",
    "            lista.append(float(item))\n",
    "        except (ValueError, Exception):\n",
    "            if len(lista) > 0:\n",
    "                produtos = faz_produto_lista(lista)\n",
    "            else:\n",
    "                produtos = 0\n",
    "            print(f'Lista = {lista} \\nProduto dos elementos = {produtos}')\n",
    "            break\n",
    "\n",
    "## recursivo\n",
    "def faz_produto_lista(lista):\n",
    "        return lista[len(lista)-1] * faz_produto_lista(lista[:-1]) if len(lista) > 0 else 1\n",
    "    \n",
    "def f_main():\n",
    "    return monta_lista()\n",
    "\n",
    "f_main()"
   ]
  },
  {
   "cell_type": "code",
   "execution_count": 6,
   "metadata": {
    "collapsed": true
   },
   "outputs": [],
   "source": [
    "assert(faz_produto_lista([1,2,3,4,5,6])==720)"
   ]
  },
  {
   "cell_type": "markdown",
   "metadata": {},
   "source": [
    "## 5 Defina a função contem_parQ que recebe como argumento uma lista de números inteiros  w e devolve True se w contém um número par e False em caso contrário.\n",
    "\n",
    "Ex: contem_parQ([2,3,1,2,3,4]) = True\n",
    "Ex: contem_parQ([1,3,5,7]) = False"
   ]
  },
  {
   "cell_type": "code",
   "execution_count": 1,
   "metadata": {},
   "outputs": [
    {
     "name": "stdout",
     "output_type": "stream",
     "text": [
      "OBS: Você será solicitado a inserir elementos na lista até inserir um elemento inválido\n",
      "Insira um número inteiro na lista: 2\n",
      "Insira um número inteiro na lista: 3\n",
      "Insira um número inteiro na lista: 1\n",
      "Insira um número inteiro na lista: 2\n",
      "Insira um número inteiro na lista: 3\n",
      "Insira um número inteiro na lista: 4\n",
      "Insira um número inteiro na lista: a\n",
      "True\n"
     ]
    }
   ],
   "source": [
    "def monta_lista():\n",
    "    lista = []\n",
    "    print('OBS: Você será solicitado a inserir elementos na lista até inserir um elemento inválido')\n",
    "    while True:\n",
    "        item = input('Insira um número inteiro na lista: ')\n",
    "        try:\n",
    "            lista.append(int(item))\n",
    "        except (ValueError, Exception):\n",
    "            if len(lista) > 0:\n",
    "                resultado = verifica_par(lista)\n",
    "                print(resultado)\n",
    "                break\n",
    "            else:\n",
    "                print('A lista está vazia!')\n",
    "\n",
    "## recursivo\n",
    "def verifica_par(lista):\n",
    "    return True if len(lista)> 0 and (lista[len(lista)-1] % 2 == 0 or verifica_par(lista[:-1])) else False\n",
    "    \n",
    "def f_main():\n",
    "    return monta_lista()\n",
    "\n",
    "f_main()"
   ]
  },
  {
   "cell_type": "code",
   "execution_count": 2,
   "metadata": {
    "collapsed": true
   },
   "outputs": [],
   "source": [
    "assert(verifica_par([2,3,1,2,3,4])==True)"
   ]
  },
  {
   "cell_type": "markdown",
   "metadata": {},
   "source": [
    "## 7 Defina a função pertenceQ que recebe como argumentos uma lista de números inteiros  w  e um número inteiro  n  e devolve True se  n  ocorre em  w  e False em caso contrário.\n",
    "\n",
    "Ex: pertenceQ([1,2,3],1) = True\n",
    "Ex: pertenceQ([1,2,3],2) = True\n",
    "Ex: pertenceQ([1,2,3],3) = True\n",
    "Ex: pertenceQ([1,2,3],4) = False"
   ]
  },
  {
   "cell_type": "code",
   "execution_count": 7,
   "metadata": {},
   "outputs": [
    {
     "name": "stdout",
     "output_type": "stream",
     "text": [
      "OBS: Você será solicitado a inserir elementos na lista até inserir um elemento inválido\n",
      "Insira um número inteiro na lista: 1\n",
      "Insira um número inteiro na lista: 2\n",
      "Insira um número inteiro na lista: 3\n",
      "Insira um número inteiro na lista: a\n",
      "Lista = [1, 2, 3]\n",
      "Digite um número inteiro: 1\n",
      "True\n"
     ]
    }
   ],
   "source": [
    "def monta_lista():\n",
    "    lista = []\n",
    "    print('OBS: Você será solicitado a inserir elementos na lista até inserir um elemento inválido')\n",
    "    while True:\n",
    "        item = input('Insira um número inteiro na lista: ')\n",
    "        try:\n",
    "            lista.append(int(item))\n",
    "        except (ValueError, Exception):\n",
    "            print(f'Lista = {lista}')\n",
    "            numero =  insere_inteiro()\n",
    "            resultado = pertence_q(lista, numero)\n",
    "            print(resultado)\n",
    "            break\n",
    "            \n",
    "def insere_inteiro():\n",
    "    return int(input('Digite um número inteiro: '))\n",
    "\n",
    "## recursivo\n",
    "def pertence_q(lista, numero):\n",
    "    return True if len(lista)> 0 and (numero in lista or pertence_q(lista[:-1],numero)) else False\n",
    "        \n",
    "def f_main():\n",
    "    return monta_lista()\n",
    "\n",
    "f_main()"
   ]
  },
  {
   "cell_type": "code",
   "execution_count": 8,
   "metadata": {
    "collapsed": true
   },
   "outputs": [],
   "source": [
    "assert(pertence_q([1,2,3],1)==True)"
   ]
  },
  {
   "cell_type": "markdown",
   "metadata": {},
   "source": [
    "## 10 Defina a função inverteLista que recebe como argumento uma lista  w e devolve a mesma lista mas invertida.\n",
    "\n",
    "Ex: inverteLista([1,2,3,4,5]) = [5, 4, 3, 2, 1]\n",
    "Ex: inverteLista([])"
   ]
  },
  {
   "cell_type": "code",
   "execution_count": 42,
   "metadata": {},
   "outputs": [
    {
     "name": "stdout",
     "output_type": "stream",
     "text": [
      "OBS: Você será solicitado a inserir elementos na lista até inserir um elemento inválido\n",
      "Insira um número inteiro na lista: 1\n",
      "Insira um número inteiro na lista: 2\n",
      "Insira um número inteiro na lista: 3\n",
      "Insira um número inteiro na lista: 4\n",
      "Insira um número inteiro na lista: 5\n",
      "Insira um número inteiro na lista: a\n",
      "Lista = [1, 2, 3, 4, 5]\n",
      "Lista Invertida = [5, 4, 3, 2, 1]\n"
     ]
    }
   ],
   "source": [
    "def monta_lista():\n",
    "    lista = []\n",
    "    n_lista = []\n",
    "    print('OBS: Você será solicitado a inserir elementos na lista até inserir um elemento inválido')\n",
    "    while True:\n",
    "        item = input('Insira um número inteiro na lista: ')\n",
    "        try:\n",
    "            lista.append(int(item))\n",
    "        except (ValueError, Exception):\n",
    "            print(f'Lista = {lista}')\n",
    "            n_lista = inverte(lista)\n",
    "            print(f'Lista Invertida = {n_lista}')\n",
    "            break\n",
    "\n",
    "## recursivo\n",
    "inverte = lambda lista: (inverte(lista[1:]) + lista[:1] if lista else [])\n",
    "    \n",
    "def f_main():\n",
    "    return monta_lista()\n",
    "\n",
    "f_main()"
   ]
  },
  {
   "cell_type": "code",
   "execution_count": 43,
   "metadata": {
    "collapsed": true
   },
   "outputs": [],
   "source": [
    "assert(inverte([1,2,3,4,5])==[5,4,3,2,1])"
   ]
  },
  {
   "cell_type": "code",
   "execution_count": null,
   "metadata": {
    "collapsed": true
   },
   "outputs": [],
   "source": []
  }
 ],
 "metadata": {
  "kernelspec": {
   "display_name": "Python 3",
   "language": "python",
   "name": "python3"
  },
  "language_info": {
   "codemirror_mode": {
    "name": "ipython",
    "version": 3
   },
   "file_extension": ".py",
   "mimetype": "text/x-python",
   "name": "python",
   "nbconvert_exporter": "python",
   "pygments_lexer": "ipython3",
   "version": "3.6.3"
  }
 },
 "nbformat": 4,
 "nbformat_minor": 2
}
