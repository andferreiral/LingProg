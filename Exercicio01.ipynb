{
 "cells": [
  {
   "cell_type": "markdown",
   "metadata": {},
   "source": [
    "1 Faça um Programa que peça o raio de um círculo, calcule e mostre sua área. "
   ]
  },
  {
   "cell_type": "code",
   "execution_count": null,
   "metadata": {},
   "outputs": [],
   "source": [
    "import math as m\n",
    "\n",
    "x = float(input(\"Insira o raio: \"))\n",
    "area = m.pi * (x**2)\n",
    "print(area)"
   ]
  },
  {
   "cell_type": "markdown",
   "metadata": {},
   "source": [
    "2 Faça um Programa que calcule a área de um quadrado, em seguida mostre o dobro desta área para o usuário. \n"
   ]
  },
  {
   "cell_type": "code",
   "execution_count": null,
   "metadata": {},
   "outputs": [],
   "source": [
    "x = float(input(\"Insira o valor do lado do quadrado: \"))\n",
    "area = 2* (x**2)\n",
    "print(area)"
   ]
  },
  {
   "cell_type": "markdown",
   "metadata": {},
   "source": [
    "3 Faça um Programa que pergunte quanto você ganha por hora e o número de horas trabalhadas no mês. Calcule e mostre o total do seu salário no referido mês. "
   ]
  },
  {
   "cell_type": "code",
   "execution_count": null,
   "metadata": {},
   "outputs": [],
   "source": [
    "x = float(input(\"Insira o valor da hora trabalhada: \"))\n",
    "y = int(input(\"Insira o número de horas trabalhadas no mês : \"))\n",
    "total = x * y\n",
    "print(f'Salário total: R$ {total}')"
   ]
  },
  {
   "cell_type": "markdown",
   "metadata": {},
   "source": [
    "4 Faça um Programa que peça a temperatura em graus Farenheit, transforme e mostre a temperatura em graus Celsius. C = (5 * (F-32) / 9). \n"
   ]
  },
  {
   "cell_type": "code",
   "execution_count": null,
   "metadata": {},
   "outputs": [],
   "source": [
    "temperatura = float(input(\"Insira a temperatura em ºF: \"))\n",
    "C = (5 * (temperatura - 32)/9)\n",
    "print(f'Temperatura em ºC: {C}')"
   ]
  },
  {
   "cell_type": "markdown",
   "metadata": {},
   "source": [
    "5 Faça um Programa que peça a temperatura em graus Celsius, transforme e mostre em graus Farenheit. "
   ]
  },
  {
   "cell_type": "code",
   "execution_count": null,
   "metadata": {},
   "outputs": [],
   "source": [
    "temperatura = float(input(\"Insira a temperatura em ºC: \"))\n",
    "F = ((temperatura/5) * 9 + 32)\n",
    "print(f'Temperatura em ºF: {F}')"
   ]
  },
  {
   "cell_type": "markdown",
   "metadata": {},
   "source": [
    "6 Faça um Programa que peça 2 números inteiros e um número real. Calcule e mostre: - o produto do dobro do primeiro com metade do segundo . - a soma do triplo do primeiro com o terceiro. - o terceiro elevado ao cubo. "
   ]
  },
  {
   "cell_type": "code",
   "execution_count": null,
   "metadata": {},
   "outputs": [],
   "source": [
    "x = int(input(\"Insira um número inteiro: \"))\n",
    "y = int(input(\"Insira um número inteiro: \"))\n",
    "z = float(input(\"Insira um número real: \"))\n",
    "\n",
    "primeiro = ((x * 2) * (y/2))\n",
    "segundo = ((x * 3) + (z))\n",
    "terceiro = (z ** 3)\n",
    "\n",
    "lista = [primeiro, segundo, terceiro]\n",
    "\n",
    "for i in lista:\n",
    "    print(float(i))"
   ]
  },
  {
   "cell_type": "markdown",
   "metadata": {},
   "source": [
    "7 João Papo-de-Pescador, homem de bem, comprou um microcomputador para controlar o rendimento diário de seu trabalho. Toda vez que ele traz um peso de peixes maior que o estabelecido pelo regulamento de pesca do estado de São Paulo (50 quilos) deve pagar uma multa de R$ 4,00 por quilo excedente. João precisa que você faça um programa que leia a variável peso (peso de peixes) e verifique se há \n",
    "excesso. Se houver, gravar na variável excesso e na variável multa o valor da multa que João deverá pagar. Caso contrário mostrar tais variáveis com o conteúdo ZERO. "
   ]
  },
  {
   "cell_type": "code",
   "execution_count": null,
   "metadata": {},
   "outputs": [],
   "source": [
    "peso = float(input(\"Insira o valor do peso dos peixes coletados: \"))\n",
    "if(peso > 50):\n",
    "    excesso = peso - 50\n",
    "    multa = excesso * 4\n",
    "else:\n",
    "    excesso = 0\n",
    "    multa = 0\n",
    "print(30 * '-')\n",
    "print(f'Peso dos peixes: {peso}')\n",
    "print(f'Valor do excesso: {excesso}')\n",
    "print(f'Valor da multa: {multa}')"
   ]
  },
  {
   "cell_type": "markdown",
   "metadata": {},
   "source": [
    "8 Faça um Programa que pergunte quanto você ganha por hora e o número de horas trabalhadas no mês. Calcule e mostre o total do seu salário no referido mês, sabendo-se que são descontados 11% para o Imposto de Renda, 8% para o INSS e 5% para o sindicato, faça um programa que nos dê: - salário bruto. - quanto pagou ao INSS. - quanto pagou ao sindicato. - o salário líquido. - calcule os descontos e o salário líquido, conforme a tabela abaixo:            + Salário Bruto : R$            - IR (11%) : R$            - INSS (8%) : R$            - Sindicato ( 5%) : R$            = Salário Liquido : R$ Obs.: Salário Bruto - Descontos = Salário Líquido. \n",
    " "
   ]
  },
  {
   "cell_type": "code",
   "execution_count": null,
   "metadata": {},
   "outputs": [],
   "source": [
    "x = float(input(\"Insira o valor da hora trabalhada: \"))\n",
    "y = int(input(\"Insira o número de horas trabalhadas no mês : \"))\n",
    "\n",
    "sl_bruto = x * y\n",
    "\n",
    "IR = sl_bruto * 0.11\n",
    "INSS = sl_bruto * 0.08\n",
    "SIND = sl_bruto * 0.05\n",
    "desconto = IR + INSS + SIND\n",
    "\n",
    "sl_liquido = sl_bruto - desconto\n",
    "print(f'Salário líquido no mês: {sl_liquido}')"
   ]
  },
  {
   "cell_type": "markdown",
   "metadata": {},
   "source": [
    "9 Faça um programa que leia 2 strings e informe o conteúdo delas seguido do seu comprimento. Informe também se as duas strings possuem o mesmo comprimento e são iguais ou diferentes no conteúdo. Exemplo: String 1: Brasil Hexa 2018 String 2: Brasil! Hexa 2018! Tamanho de \"Brasil Hexa 2018\": 16 caracteres Tamanho de \"Brasil! Hexa 2018!\": 18 caracteres As duas strings são de tamanhos diferentes. As duas strings possuem conteúdo diferente. \n",
    " "
   ]
  },
  {
   "cell_type": "code",
   "execution_count": null,
   "metadata": {},
   "outputs": [],
   "source": [
    "a =  input(\"Insira a primeira frase ou palavra: \")\n",
    "b = input(\"Insira a segunda frase ou palavra: \")\n",
    "\n",
    "if (len(a) == len(b)):\n",
    "    print(\"As duas strings possuem tamanho igual!\")\n",
    "else:\n",
    "    print(\"As duas strings possuem tamanho diferente!\")\n",
    "\n",
    "if (a == b):\n",
    "    print(\"As duas strings possuem conteúdo igual!\")\n",
    "else:\n",
    "    print(\"As duas strings possuem conteúdo diferente!\")"
   ]
  },
  {
   "cell_type": "markdown",
   "metadata": {},
   "source": [
    "10 Faça um programa que permita ao usuário digitar o seu nome e em seguida mostre o nome do usuário de trás para frente utilizando somente letras maiúsculas. Dica: lembre−se que ao informar o nome o usuário pode digitar letras maiúsculas ou minúsculas. Observação: não use loops. \n",
    " "
   ]
  },
  {
   "cell_type": "code",
   "execution_count": null,
   "metadata": {},
   "outputs": [],
   "source": [
    "nome = input(\"Insira seu nome: \")\n",
    "maiusculo = nome.upper()\n",
    "print(maiusculo[-1::-1])"
   ]
  },
  {
   "cell_type": "markdown",
   "metadata": {},
   "source": [
    "11 Faça um programa que solicite a data de nascimento (dd/mm/aaaa) do usuário e imprima a data com o nome do mês por extenso. Data de Nascimento: 29/10/1973 \n",
    "Você nasceu em  29 de Outubro de 1973. "
   ]
  },
  {
   "cell_type": "code",
   "execution_count": null,
   "metadata": {},
   "outputs": [],
   "source": [
    "dia, mes, ano = input(\"Insira a data de nascimento: \").split(\"/\")\n",
    "meses = ['Janeiro', 'Fevereiro', 'Março', 'Abril', 'Maio', 'Junho', 'Julho', \n",
    "         'Agosto', 'Setembro', 'Outubro', 'Novembro', 'Dezembro']\n",
    "if(int(dia) <= 31):\n",
    "    if(int(mes) <= 12):\n",
    "        m = meses[int(mes) - 1]\n",
    "        print(\"Você nasceu em %d de %s de %d\" %(int(dia), m, int(ano)))\n",
    "    else:\n",
    "        print(\"Insira um mês válido\")\n",
    "else:\n",
    "    print(\"Insira um dia válido\")\n",
    "    \n",
    "\n"
   ]
  },
  {
   "cell_type": "markdown",
   "metadata": {},
   "source": [
    "12 Leet é uma forma de se escrever o alfabeto latino usando outros símbolos em lugar das letras, como números por exemplo. A própria palavra leet admite muitas variações, como l33t ou 1337. O uso do leet reflete uma subcultura relacionada ao mundo dos jogos de computador e internet, sendo muito usada para confundir os iniciantes e afirmar-se como parte de um grupo. Pesquise sobre as principais formas de traduzir as letras. Depois, faça um programa que peça uma texto e transforme-o para a grafia leet speak. "
   ]
  },
  {
   "cell_type": "code",
   "execution_count": null,
   "metadata": {},
   "outputs": [],
   "source": [
    "#IMPORTO A BIBLIOTECA (MODULO) QUE CONTEM OS CARACTERES DO ALFABETO\n",
    "import string as s\n",
    "\n",
    "#SETANDO OS PRIMEIROS VALORES DAS VARIÁVEIS\n",
    "cont = 0\n",
    "dicionario = {}\n",
    "alfabeto_ascii = list(s.ascii_uppercase)\n",
    "alfabeto_leet = ['4', '8', '(', '|)', '3','|=', '6', ']-[', '1',\n",
    "                '_|', '|<', '|', '|v|', '|\\|', '0', '|º', '(,)', '|2',\n",
    "                '5', '7', '|_|','\\/', '\\/\\/', '><', '`/', '2']\n",
    "\n",
    "#CRIANDO O DICIONÁRIO COM AS LISTAS DO TIPO - KEY:VALUE\n",
    "while cont < len(alfabeto_ascii):\n",
    "    x = alfabeto_ascii[cont]\n",
    "    dicionario[x] = alfabeto_leet[cont]\n",
    "    cont += 1\n",
    "\n",
    "#PROCESSANDO...\n",
    "palavra = input(\"Insira uma palavra: \")\n",
    "n_palavra = palavra.upper()\n",
    "\n",
    "for k,v in dicionario.items():\n",
    "    n_palavra = n_palavra.replace(k,v)\n",
    "\n",
    "#IMPRIMINDO...\n",
    "print(\"Leet: %s\" %(n_palavra))\n",
    "    \n"
   ]
  }
 ],
 "metadata": {
  "kernelspec": {
   "display_name": "Python 3",
   "language": "python",
   "name": "python3"
  },
  "language_info": {
   "codemirror_mode": {
    "name": "ipython",
    "version": 3
   },
   "file_extension": ".py",
   "mimetype": "text/x-python",
   "name": "python",
   "nbconvert_exporter": "python",
   "pygments_lexer": "ipython3",
   "version": "3.6.3"
  }
 },
 "nbformat": 4,
 "nbformat_minor": 2
}
